{
 "cells": [
  {
   "cell_type": "markdown",
   "metadata": {},
   "source": [
    "## Project Submission\n",
    "\n",
    "When you are ready to submit your project, meaning you have checked the [rubric](https://review.udacity.com/#!/rubrics/1428/view) and made sure that you have completed all tasks and answered all questions. Then you are ready to compress your files and submit your solution!\n",
    "\n",
    "The following steps assume:\n",
    "1. All cells have been *run* in Notebook 3 (and that progress has been saved).\n",
    "2. All questions in Notebook 3 have been answered.\n",
    "3. Your robot `sense` function in `robot_class.py` is complete.\n",
    "\n",
    "Please make sure all your work is saved before moving on. You do not need to change any code in the following cells; this code is to help you submit your project, only.\n",
    "\n",
    "---\n",
    "\n",
    "The first thing we'll do, is convert your notebooks into `.html` files; these files will save the output of each cell and any code/text that you have modified and saved in those notebooks. Note that the second notebook is not included because its completion does not affect whether you pass this project."
   ]
  },
  {
   "cell_type": "code",
   "execution_count": 1,
   "metadata": {},
   "outputs": [
    {
     "name": "stdout",
     "output_type": "stream",
     "text": [
      "[NbConvertApp] Converting notebook 1. Robot Moving and Sensing.ipynb to html\n",
      "[NbConvertApp] Writing 329205 bytes to 1. Robot Moving and Sensing.html\n",
      "[NbConvertApp] Converting notebook 3. Landmark Detection and Tracking.ipynb to html\n",
      "[NbConvertApp] Writing 414092 bytes to 3. Landmark Detection and Tracking.html\n"
     ]
    }
   ],
   "source": [
    "!jupyter nbconvert \"1. Robot Moving and Sensing.ipynb\"\n",
    "!jupyter nbconvert \"3. Landmark Detection and Tracking.ipynb\""
   ]
  },
  {
   "cell_type": "markdown",
   "metadata": {},
   "source": [
    "### Zip the project files\n",
    "\n",
    "Next, we'll zip these notebook files and your `robot_class.py` file into one compressed archive named `project3.zip`.\n",
    "\n",
    "After completing this step you should see this zip file appear in your home directory, where you can download it as seen in the image below, by selecting it from the list and clicking **Download**.\n",
    "\n",
    "<img src='images/download_ex.png' width=50% height=50%/>\n"
   ]
  },
  {
   "cell_type": "code",
   "execution_count": 2,
   "metadata": {},
   "outputs": [
    {
     "name": "stdout",
     "output_type": "stream",
     "text": [
      "  adding: 1. Robot Moving and Sensing.html (deflated 80%)\r\n",
      "  adding: 3. Landmark Detection and Tracking.html (deflated 79%)\r\n",
      "  adding: robot_class.py (deflated 66%)\r\n"
     ]
    }
   ],
   "source": [
    "!!apt-get -y update && apt-get install -y zip\n",
    "!zip project3.zip -r . -i@filelist.txt"
   ]
  },
  {
   "cell_type": "markdown",
   "metadata": {},
   "source": [
    "### Submit Your Project\n",
    "\n",
    "After creating and downloading your zip file, click on the `Submit` button and follow the instructions for submitting your `project3.zip` file. Congratulations on completing this project and I hope you enjoyed it!"
   ]
  },
  {
   "cell_type": "code",
   "execution_count": 4,
   "metadata": {},
   "outputs": [
    {
     "name": "stdout",
     "output_type": "stream",
     "text": [
      "user.name=TekayaNidham\r\n",
      "user.email=nidham.tekayaa@gmail.com\r\n"
     ]
    }
   ],
   "source": [
    "!git config user.name \"TekayaNidham\"\n",
    "!git config user.email \"nidham.tekayaa@gmail.com\"\n",
    "!git config --list"
   ]
  },
  {
   "cell_type": "code",
   "execution_count": 6,
   "metadata": {},
   "outputs": [],
   "source": [
    "!git config --global user.password \"Echec1011\""
   ]
  },
  {
   "cell_type": "code",
   "execution_count": 7,
   "metadata": {},
   "outputs": [
    {
     "name": "stdout",
     "output_type": "stream",
     "text": [
      "Reinitialized existing Git repository in /home/workspace/.git/\r\n"
     ]
    }
   ],
   "source": [
    "!git init"
   ]
  },
  {
   "cell_type": "code",
   "execution_count": 8,
   "metadata": {},
   "outputs": [],
   "source": [
    "!git add ."
   ]
  },
  {
   "cell_type": "code",
   "execution_count": 9,
   "metadata": {},
   "outputs": [
    {
     "name": "stdout",
     "output_type": "stream",
     "text": [
      "[master (root-commit) 2545562] p3udacity\r\n",
      " 32 files changed, 33188 insertions(+)\r\n",
      " create mode 100644 .ipynb_checkpoints/1. Robot Moving and Sensing-checkpoint.ipynb\r\n",
      " create mode 100644 .ipynb_checkpoints/1. Robot Moving and Sensing-zh-checkpoint.ipynb\r\n",
      " create mode 100644 .ipynb_checkpoints/2. Omega and Xi, Constraints-checkpoint.ipynb\r\n",
      " create mode 100644 .ipynb_checkpoints/2. Omega and Xi, Constraints-zh-checkpoint.ipynb\r\n",
      " create mode 100644 .ipynb_checkpoints/3. Landmark Detection and Tracking-checkpoint.ipynb\r\n",
      " create mode 100644 .ipynb_checkpoints/3. Landmark Detection and Tracking-zh-checkpoint.ipynb\r\n",
      " create mode 100644 .ipynb_checkpoints/4. Zip Your Project Files and Submit-checkpoint.ipynb\r\n",
      " create mode 100644 .ipynb_checkpoints/4_Zip Your Project Files and Submit-zh-checkpoint.ipynb\r\n",
      " create mode 100644 1. Robot Moving and Sensing-zh.ipynb\r\n",
      " create mode 100644 1. Robot Moving and Sensing.html\r\n",
      " create mode 100644 1. Robot Moving and Sensing.ipynb\r\n",
      " create mode 100644 2. Omega and Xi, Constraints-zh.ipynb\r\n",
      " create mode 100644 2. Omega and Xi, Constraints.ipynb\r\n",
      " create mode 100644 3. Landmark Detection and Tracking-zh.ipynb\r\n",
      " create mode 100644 3. Landmark Detection and Tracking.html\r\n",
      " create mode 100644 3. Landmark Detection and Tracking.ipynb\r\n",
      " create mode 100644 4. Zip Your Project Files and Submit.ipynb\r\n",
      " create mode 100644 4_Zip Your Project Files and Submit-zh.ipynb\r\n",
      " create mode 100644 __pycache__/helpers.cpython-36.pyc\r\n",
      " create mode 100644 __pycache__/robot_class.cpython-36.pyc\r\n",
      " create mode 100644 filelist.txt\r\n",
      " create mode 100644 helpers.py\r\n",
      " create mode 100644 images/constraints2D.png\r\n",
      " create mode 100644 images/download_ex.png\r\n",
      " create mode 100644 images/initial_constraints.png\r\n",
      " create mode 100644 images/motion_constraint.png\r\n",
      " create mode 100644 images/omega_xi.png\r\n",
      " create mode 100644 images/omega_xi_constraints.png\r\n",
      " create mode 100644 images/robot_world.png\r\n",
      " create mode 100644 images/solution.png\r\n",
      " create mode 100644 project3.zip\r\n",
      " create mode 100644 robot_class.py\r\n"
     ]
    }
   ],
   "source": [
    "!git commit -m \"p3udacity\""
   ]
  },
  {
   "cell_type": "code",
   "execution_count": 10,
   "metadata": {},
   "outputs": [
    {
     "name": "stdout",
     "output_type": "stream",
     "text": [
      "fatal: 'origin' does not appear to be a git repository\r\n",
      "fatal: Could not read from remote repository.\r\n",
      "\r\n",
      "Please make sure you have the correct access rights\r\n",
      "and the repository exists.\r\n"
     ]
    }
   ],
   "source": [
    "!git push origin master"
   ]
  },
  {
   "cell_type": "code",
   "execution_count": null,
   "metadata": {},
   "outputs": [],
   "source": []
  }
 ],
 "metadata": {
  "kernelspec": {
   "display_name": "Python 3",
   "language": "python",
   "name": "python3"
  },
  "language_info": {
   "codemirror_mode": {
    "name": "ipython",
    "version": 3
   },
   "file_extension": ".py",
   "mimetype": "text/x-python",
   "name": "python",
   "nbconvert_exporter": "python",
   "pygments_lexer": "ipython3",
   "version": "3.6.3"
  }
 },
 "nbformat": 4,
 "nbformat_minor": 2
}
